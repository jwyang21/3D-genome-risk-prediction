{
 "cells": [
  {
   "cell_type": "code",
   "execution_count": 27,
   "metadata": {},
   "outputs": [],
   "source": [
    "import pandas as pd\n",
    "import numpy as np\n",
    "import os\n",
    "import matplotlib.pyplot as plt\n",
    "import matplotlib as mpl\n",
    "import argparse"
   ]
  },
  {
   "cell_type": "code",
   "execution_count": 2,
   "metadata": {},
   "outputs": [],
   "source": [
    "mpl.rcParams['figure.dpi'] = 150\n",
    "plt.rc('font', family='FreeSans', size=7)\n",
    "plt.rc('figure', figsize=(1.5, 1.5))"
   ]
  },
  {
   "cell_type": "code",
   "execution_count": null,
   "metadata": {},
   "outputs": [],
   "source": [
    "def parse_arguments():\n",
    "    args = argparse.ArgumentParser()\n",
    "    args.add_argument('--cpg_type', help = 'island, opensea, shelf_shore', type = str, required = True)\n",
    "    args.add_argument('--cohort2eid', help = 'cohort2eid fname', type = str, default = '/data/project/3dith/data/etc/cohort2eid.txt', required = False)\n",
    "    args.add_argument('--chromatin_states', help = 'chromatin state fname', type = str, default = '/data/project/3dith/data/chromatin_states.npy', required = False)\n",
    "    args.add_argument('--input_fname', help = 'input filename', type = str, default = 'DMR_EPI_features_threshold_mean_std_len.npz', required = True)\n",
    "    return args.parse_args()"
   ]
  },
  {
   "cell_type": "code",
   "execution_count": null,
   "metadata": {},
   "outputs": [],
   "source": [
    "if __name__=='__main__':\n",
    "    args = parse_arguments()\n",
    "    working_dir = f'/data/project/3dith/pipelines/{args.cpg_type}-pipeline/3_dmr-{args.cpg_type}/'\n",
    "    save_dir = f'/data/project/3dith/pipelines/{args.cpg_type}-pipeline/3_dmr-{args.cpg_type}/result/'\n",
    "    cohort2eid = pd.read_csv(args.cohort2eid, sep = '\\t', header = None, names = ['cohort', 'eid'])\n",
    "    chromatin_states = np.load(args.chromatin_states, allow_pickle = True)\n",
    "    save_fname_p = f'EPI-category-proportion-stacked-bar-chart-{args.cpg_type}-TN.csv'\n",
    "    save_fname_l = f'EPI-category-len-stacked-bar-chart-{args.cpg_type}-TN.csv'\n",
    "    \n",
    "    all_df = pd.DataFrame(np.zeros((len(cohort2eid.cohort.values), len(chromatin_states)), dtype = float), index = cohort2eid.cohort.values, columns = chromatin_states)\n",
    "    \n",
    "    for cohort in cohort2eid.cohort.values:\n",
    "        print(cohort)\n",
    "        input_dir = f'/data/project/3dith/pipelines/{args.cpg_type}-pipeline/3_dmr-{args.cpg_type}/result/{cohort}'\n",
    "        data = np.load(os.path.join(input_dir, args.input_fname))\n",
    "        for k in list(data.keys()):\n",
    "            for s in chromatin_states:\n",
    "                if s in k:\n",
    "                    #print(data[k])\n",
    "                    all_df.loc[cohort][s] += data[k]\n",
    "                    \n",
    "    all_df_proportion = pd.DataFrame(np.zeros((len(cohort2eid.cohort.values), len(chromatin_states)), dtype = float), index = cohort2eid.cohort.values, columns = chromatin_states)\n",
    "    for cohort in cohort2eid.cohort.values:\n",
    "        for s in chromatin_states:\n",
    "            all_df_proportion.loc[cohort][s] = all_df.loc[cohort][s]/all_df.loc[cohort].sum()\n",
    "            \n",
    "    all_df.to_csv(os.path.join(save_dir, save_fname_l))\n",
    "    print(os.path.join(save_dir, save_fname_l))\n",
    "    \n",
    "    all_df_proportion.to_csv(os.path.join(save_dir, save_fname_p))\n",
    "    print(os.path.join(save_dir, save_fname_p))    "
   ]
  }
 ],
 "metadata": {
  "kernelspec": {
   "display_name": "3dith",
   "language": "python",
   "name": "3dith"
  },
  "language_info": {
   "codemirror_mode": {
    "name": "ipython",
    "version": 3
   },
   "file_extension": ".py",
   "mimetype": "text/x-python",
   "name": "python",
   "nbconvert_exporter": "python",
   "pygments_lexer": "ipython3",
   "version": "3.10.6"
  }
 },
 "nbformat": 4,
 "nbformat_minor": 2
}
