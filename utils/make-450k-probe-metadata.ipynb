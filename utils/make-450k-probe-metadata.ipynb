{
 "cells": [
  {
   "cell_type": "code",
   "execution_count": 1,
   "metadata": {},
   "outputs": [],
   "source": [
    "import pandas as pd\n",
    "import numpy as np\n",
    "import os"
   ]
  },
  {
   "cell_type": "code",
   "execution_count": 2,
   "metadata": {},
   "outputs": [
    {
     "name": "stderr",
     "output_type": "stream",
     "text": [
      "/tmp/ipykernel_71794/1060406690.py:1: DtypeWarning: Columns (2,4,11,14,15) have mixed types. Specify dtype option on import or set low_memory=False.\n",
      "  meta = pd.read_csv('/data/project/3dith/data/humanmethylation450_15017482_v1-2.csv', skiprows = 7)\n"
     ]
    }
   ],
   "source": [
    "meta = pd.read_csv('/data/project/3dith/data/humanmethylation450_15017482_v1-2.csv', skiprows = 7)"
   ]
  },
  {
   "cell_type": "code",
   "execution_count": 3,
   "metadata": {},
   "outputs": [],
   "source": [
    "raw_meta = meta.copy()"
   ]
  },
  {
   "cell_type": "code",
   "execution_count": 70,
   "metadata": {},
   "outputs": [
    {
     "data": {
      "text/plain": [
       "array([nan, 'N_Shore', 'S_Shelf', 'Island', 'S_Shore', 'N_Shelf'],\n",
       "      dtype=object)"
      ]
     },
     "execution_count": 70,
     "metadata": {},
     "output_type": "execute_result"
    }
   ],
   "source": [
    "meta.Relation_to_UCSC_CpG_Island.unique()"
   ]
  },
  {
   "cell_type": "markdown",
   "metadata": {},
   "source": [
    "---"
   ]
  },
  {
   "cell_type": "markdown",
   "metadata": {},
   "source": [
    "## Preliminary\n",
    "- 지금 있는 resort bedfile 그대로 만들어 본 다음에, 똑같이 재현되는지 확인 후 island, shore, shelf cpg들 뽑기"
   ]
  },
  {
   "cell_type": "markdown",
   "metadata": {},
   "source": [
    "- 일단 이 metadata 쓰는게 맞는지 확인하기 위해, https://www.notion.so/dohlee/450K-probe-metadata-CpG-resort-only-processed-137dd157c1034e65b5713ff17f2c82ce 의 코드 그대로 따라해 보고 노션과 같은 결과 숫자들이 나오는지 확인."
   ]
  },
  {
   "cell_type": "code",
   "execution_count": 10,
   "metadata": {},
   "outputs": [
    {
     "name": "stdout",
     "output_type": "stream",
     "text": [
      "(309304, 33)\n",
      "0.6358680010196781\n"
     ]
    }
   ],
   "source": [
    "cpg_type = 'resort'\n",
    "globals()['meta_notnull_'+cpg_type] = meta[(meta.Genome_Build == 37.0) & meta.CHR.notnull() & meta.MAPINFO.notnull() & meta.Relation_to_UCSC_CpG_Island.notnull()].copy()\n",
    "print(globals()['meta_notnull_'+cpg_type].shape)\n",
    "print(len(globals()['meta_notnull_'+cpg_type])/len(meta))"
   ]
  },
  {
   "cell_type": "markdown",
   "metadata": {},
   "source": [
    "- https://www.notion.so/dohlee/450K-probe-metadata-processed-fc38c2d1c01d4de3a74fe269ea5726e1 의 코드를 그대로 따라했을 때, 결과 bed file '/data/project/3dith/data/450k_metadata.resort.sorted.bed'과 동일한 파일이 나오는지 확인"
   ]
  },
  {
   "cell_type": "code",
   "execution_count": 30,
   "metadata": {},
   "outputs": [],
   "source": [
    "meta_notnull = globals()['meta_notnull_resort'].copy()"
   ]
  },
  {
   "cell_type": "code",
   "execution_count": 4,
   "metadata": {},
   "outputs": [],
   "source": [
    "def process_chrom(c):\n",
    "    if isinstance(c, float):\n",
    "        return f'chr{int(c)}'\n",
    "    elif isinstance(c, int):\n",
    "        return f'chr{c}'\n",
    "    else:\n",
    "        return 'chr'+c"
   ]
  },
  {
   "cell_type": "code",
   "execution_count": 32,
   "metadata": {},
   "outputs": [],
   "source": [
    "meta_notnull['CHR'] = meta_notnull.CHR.apply(process_chrom) #CHR column이 int, str 섞여있어서 정리. \n",
    "meta_notnull['MAPINFO'] = meta_notnull.MAPINFO.astype(int)"
   ]
  },
  {
   "cell_type": "code",
   "execution_count": 33,
   "metadata": {},
   "outputs": [
    {
     "data": {
      "text/plain": [
       "array(['chrY', 'chrX', 'chr1', 'chr2', 'chr3', 'chr4', 'chr5', 'chr6',\n",
       "       'chr7', 'chr8', 'chr9', 'chr10', 'chr11', 'chr12', 'chr13',\n",
       "       'chr14', 'chr15', 'chr16', 'chr17', 'chr18', 'chr19', 'chr20',\n",
       "       'chr21', 'chr22'], dtype=object)"
      ]
     },
     "execution_count": 33,
     "metadata": {},
     "output_type": "execute_result"
    }
   ],
   "source": [
    "meta_notnull.CHR.unique()"
   ]
  },
  {
   "cell_type": "code",
   "execution_count": 34,
   "metadata": {},
   "outputs": [],
   "source": [
    "meta_notnull = meta_notnull.rename({'IlmnID':'name', 'MAPINFO':'start', 'CHR':'chrom'}, axis = 1)\n",
    "meta_notnull['end'] = meta_notnull['start'] +2 -1 # since BED should be 0-based, subtract 1 from 1-based probe coordinates\n",
    "meta_notnull['start'] = meta_notnull['start'] -1 # since BEd should be 0-based, subtract 1 from 1-based probe coordinates"
   ]
  },
  {
   "cell_type": "code",
   "execution_count": 37,
   "metadata": {},
   "outputs": [
    {
     "data": {
      "text/html": [
       "<div>\n",
       "<style scoped>\n",
       "    .dataframe tbody tr th:only-of-type {\n",
       "        vertical-align: middle;\n",
       "    }\n",
       "\n",
       "    .dataframe tbody tr th {\n",
       "        vertical-align: top;\n",
       "    }\n",
       "\n",
       "    .dataframe thead th {\n",
       "        text-align: right;\n",
       "    }\n",
       "</style>\n",
       "<table border=\"1\" class=\"dataframe\">\n",
       "  <thead>\n",
       "    <tr style=\"text-align: right;\">\n",
       "      <th></th>\n",
       "      <th>chrom</th>\n",
       "      <th>start</th>\n",
       "      <th>end</th>\n",
       "      <th>name</th>\n",
       "    </tr>\n",
       "  </thead>\n",
       "  <tbody>\n",
       "    <tr>\n",
       "      <th>1</th>\n",
       "      <td>chrY</td>\n",
       "      <td>9363355</td>\n",
       "      <td>9363357</td>\n",
       "      <td>cg00050873</td>\n",
       "    </tr>\n",
       "    <tr>\n",
       "      <th>3</th>\n",
       "      <td>chrY</td>\n",
       "      <td>22741794</td>\n",
       "      <td>22741796</td>\n",
       "      <td>cg00063477</td>\n",
       "    </tr>\n",
       "    <tr>\n",
       "      <th>4</th>\n",
       "      <td>chrY</td>\n",
       "      <td>21664295</td>\n",
       "      <td>21664297</td>\n",
       "      <td>cg00121626</td>\n",
       "    </tr>\n",
       "    <tr>\n",
       "      <th>5</th>\n",
       "      <td>chrY</td>\n",
       "      <td>21239347</td>\n",
       "      <td>21239349</td>\n",
       "      <td>cg00212031</td>\n",
       "    </tr>\n",
       "    <tr>\n",
       "      <th>6</th>\n",
       "      <td>chrY</td>\n",
       "      <td>8148232</td>\n",
       "      <td>8148234</td>\n",
       "      <td>cg00213748</td>\n",
       "    </tr>\n",
       "    <tr>\n",
       "      <th>...</th>\n",
       "      <td>...</td>\n",
       "      <td>...</td>\n",
       "      <td>...</td>\n",
       "      <td>...</td>\n",
       "    </tr>\n",
       "    <tr>\n",
       "      <th>485457</th>\n",
       "      <td>chr22</td>\n",
       "      <td>20863761</td>\n",
       "      <td>20863763</td>\n",
       "      <td>cg27657537</td>\n",
       "    </tr>\n",
       "    <tr>\n",
       "      <th>485458</th>\n",
       "      <td>chr22</td>\n",
       "      <td>20378531</td>\n",
       "      <td>20378533</td>\n",
       "      <td>cg27660038</td>\n",
       "    </tr>\n",
       "    <tr>\n",
       "      <th>485459</th>\n",
       "      <td>chr22</td>\n",
       "      <td>20342519</td>\n",
       "      <td>20342521</td>\n",
       "      <td>cg27662284</td>\n",
       "    </tr>\n",
       "    <tr>\n",
       "      <th>485460</th>\n",
       "      <td>chr22</td>\n",
       "      <td>38598980</td>\n",
       "      <td>38598982</td>\n",
       "      <td>cg27662611</td>\n",
       "    </tr>\n",
       "    <tr>\n",
       "      <th>485461</th>\n",
       "      <td>chr22</td>\n",
       "      <td>30112402</td>\n",
       "      <td>30112404</td>\n",
       "      <td>cg27665648</td>\n",
       "    </tr>\n",
       "  </tbody>\n",
       "</table>\n",
       "<p>309304 rows × 4 columns</p>\n",
       "</div>"
      ],
      "text/plain": [
       "        chrom     start       end        name\n",
       "1        chrY   9363355   9363357  cg00050873\n",
       "3        chrY  22741794  22741796  cg00063477\n",
       "4        chrY  21664295  21664297  cg00121626\n",
       "5        chrY  21239347  21239349  cg00212031\n",
       "6        chrY   8148232   8148234  cg00213748\n",
       "...       ...       ...       ...         ...\n",
       "485457  chr22  20863761  20863763  cg27657537\n",
       "485458  chr22  20378531  20378533  cg27660038\n",
       "485459  chr22  20342519  20342521  cg27662284\n",
       "485460  chr22  38598980  38598982  cg27662611\n",
       "485461  chr22  30112402  30112404  cg27665648\n",
       "\n",
       "[309304 rows x 4 columns]"
      ]
     },
     "execution_count": 37,
     "metadata": {},
     "output_type": "execute_result"
    }
   ],
   "source": [
    "meta_notnull[['chrom', 'start', 'end', 'name']] #원래 metadata가 깔끔하게 정리됨"
   ]
  },
  {
   "cell_type": "code",
   "execution_count": 38,
   "metadata": {},
   "outputs": [],
   "source": [
    "meta_notnull[['chrom', 'start', 'end', 'name']].to_csv('/data/project/jeewon/test_450k_resort.bed', sep = '\\t', index = False, header = False)\n",
    "!bedtools sort -i '/data/project/jeewon/test_450k_resort.bed' > '/data/project/jeewon/test_450k_resort.sorted.bed' && rm '/data/project/jeewon/test_450k_resort.bed'"
   ]
  },
  {
   "cell_type": "code",
   "execution_count": 39,
   "metadata": {},
   "outputs": [],
   "source": [
    "test_df = pd.read_csv('/data/project/jeewon/test_450k_resort.sorted.bed', sep = '\\t', header = None)"
   ]
  },
  {
   "cell_type": "code",
   "execution_count": 40,
   "metadata": {},
   "outputs": [],
   "source": [
    "desired_df = pd.read_csv('/data/project/3dith/data/450k_metadata.resort.sorted.bed', sep = '\\t', header = None)"
   ]
  },
  {
   "cell_type": "code",
   "execution_count": 41,
   "metadata": {},
   "outputs": [
    {
     "data": {
      "text/html": [
       "<div>\n",
       "<style scoped>\n",
       "    .dataframe tbody tr th:only-of-type {\n",
       "        vertical-align: middle;\n",
       "    }\n",
       "\n",
       "    .dataframe tbody tr th {\n",
       "        vertical-align: top;\n",
       "    }\n",
       "\n",
       "    .dataframe thead th {\n",
       "        text-align: right;\n",
       "    }\n",
       "</style>\n",
       "<table border=\"1\" class=\"dataframe\">\n",
       "  <thead>\n",
       "    <tr style=\"text-align: right;\">\n",
       "      <th></th>\n",
       "      <th>0</th>\n",
       "      <th>1</th>\n",
       "      <th>2</th>\n",
       "      <th>3</th>\n",
       "    </tr>\n",
       "  </thead>\n",
       "  <tbody>\n",
       "    <tr>\n",
       "      <th>0</th>\n",
       "      <td>chr1</td>\n",
       "      <td>29406</td>\n",
       "      <td>29408</td>\n",
       "      <td>cg12045430</td>\n",
       "    </tr>\n",
       "    <tr>\n",
       "      <th>1</th>\n",
       "      <td>chr1</td>\n",
       "      <td>29424</td>\n",
       "      <td>29426</td>\n",
       "      <td>cg20826792</td>\n",
       "    </tr>\n",
       "    <tr>\n",
       "      <th>2</th>\n",
       "      <td>chr1</td>\n",
       "      <td>29434</td>\n",
       "      <td>29436</td>\n",
       "      <td>cg00381604</td>\n",
       "    </tr>\n",
       "  </tbody>\n",
       "</table>\n",
       "</div>"
      ],
      "text/plain": [
       "      0      1      2           3\n",
       "0  chr1  29406  29408  cg12045430\n",
       "1  chr1  29424  29426  cg20826792\n",
       "2  chr1  29434  29436  cg00381604"
      ]
     },
     "metadata": {},
     "output_type": "display_data"
    },
    {
     "name": "stdout",
     "output_type": "stream",
     "text": [
      "---\n"
     ]
    },
    {
     "data": {
      "text/html": [
       "<div>\n",
       "<style scoped>\n",
       "    .dataframe tbody tr th:only-of-type {\n",
       "        vertical-align: middle;\n",
       "    }\n",
       "\n",
       "    .dataframe tbody tr th {\n",
       "        vertical-align: top;\n",
       "    }\n",
       "\n",
       "    .dataframe thead th {\n",
       "        text-align: right;\n",
       "    }\n",
       "</style>\n",
       "<table border=\"1\" class=\"dataframe\">\n",
       "  <thead>\n",
       "    <tr style=\"text-align: right;\">\n",
       "      <th></th>\n",
       "      <th>0</th>\n",
       "      <th>1</th>\n",
       "      <th>2</th>\n",
       "      <th>3</th>\n",
       "    </tr>\n",
       "  </thead>\n",
       "  <tbody>\n",
       "    <tr>\n",
       "      <th>0</th>\n",
       "      <td>chr1</td>\n",
       "      <td>29406</td>\n",
       "      <td>29408</td>\n",
       "      <td>cg12045430</td>\n",
       "    </tr>\n",
       "    <tr>\n",
       "      <th>1</th>\n",
       "      <td>chr1</td>\n",
       "      <td>29424</td>\n",
       "      <td>29426</td>\n",
       "      <td>cg20826792</td>\n",
       "    </tr>\n",
       "    <tr>\n",
       "      <th>2</th>\n",
       "      <td>chr1</td>\n",
       "      <td>29434</td>\n",
       "      <td>29436</td>\n",
       "      <td>cg00381604</td>\n",
       "    </tr>\n",
       "  </tbody>\n",
       "</table>\n",
       "</div>"
      ],
      "text/plain": [
       "      0      1      2           3\n",
       "0  chr1  29406  29408  cg12045430\n",
       "1  chr1  29424  29426  cg20826792\n",
       "2  chr1  29434  29436  cg00381604"
      ]
     },
     "metadata": {},
     "output_type": "display_data"
    }
   ],
   "source": [
    "display(test_df.head(3))\n",
    "print(\"---\")\n",
    "display(desired_df.head(3))"
   ]
  },
  {
   "cell_type": "code",
   "execution_count": 42,
   "metadata": {},
   "outputs": [
    {
     "name": "stdout",
     "output_type": "stream",
     "text": [
      "(309304, 4)\n",
      "---\n",
      "(309304, 4)\n"
     ]
    }
   ],
   "source": [
    "print(test_df.shape)\n",
    "print(\"---\")\n",
    "print(desired_df.shape)"
   ]
  },
  {
   "cell_type": "markdown",
   "metadata": {},
   "source": [
    "- 이렇게 하면 될 듯!"
   ]
  },
  {
   "cell_type": "markdown",
   "metadata": {},
   "source": [
    "---"
   ]
  },
  {
   "cell_type": "markdown",
   "metadata": {},
   "source": [
    "## (1) make island CpG bedfile"
   ]
  },
  {
   "cell_type": "markdown",
   "metadata": {},
   "source": [
    "### (1-1) 먼저, metadata 내의 cpg_type들 확인"
   ]
  },
  {
   "cell_type": "code",
   "execution_count": 6,
   "metadata": {},
   "outputs": [
    {
     "name": "stdout",
     "output_type": "stream",
     "text": [
      "[nan 'N_Shore' 'S_Shelf' 'Island' 'S_Shore' 'N_Shelf']\n"
     ]
    }
   ],
   "source": [
    "print(meta.Relation_to_UCSC_CpG_Island.unique())"
   ]
  },
  {
   "cell_type": "markdown",
   "metadata": {},
   "source": [
    "### (1-2) 현재 타겟하는 cpg_type을 specify한 후 metadata에서 그 type의 cpg probe들만 추출."
   ]
  },
  {
   "cell_type": "code",
   "execution_count": 29,
   "metadata": {},
   "outputs": [
    {
     "name": "stdout",
     "output_type": "stream",
     "text": [
      "meta_notnull_Island shape: (150253, 33): \n",
      "proportion of meta_notnull_Island in whole metadata: 0.30889052439415493\n"
     ]
    }
   ],
   "source": [
    "cpg_type = 'Island'\n",
    "#globals()['meta_notnull_'+cpg_type] = meta[(meta.Genome_Build == 37.0) & meta.CHR.notnull() & meta.MAPINFO.notnull() & meta.Relation_to_UCSC_CpG_Island.notnull()].copy() # resort ver.\n",
    "globals()['meta_notnull_'+cpg_type] = meta[(meta.Genome_Build == 37.0) & meta.CHR.notnull() & meta.MAPINFO.notnull() & (meta.Relation_to_UCSC_CpG_Island==cpg_type)].copy() #island ver.\n",
    " \n",
    "print(\"meta_notnull_{} shape: {}: \".format(cpg_type, globals()['meta_notnull_'+cpg_type].shape))\n",
    "print(\"proportion of meta_notnull_{} in whole metadata: \".format(cpg_type), end = '')\n",
    "print(len(globals()['meta_notnull_'+cpg_type])/len(meta))\n",
    "meta_notnull = globals()['meta_notnull_'+cpg_type].copy()\n",
    "\n",
    "meta_notnull['CHR'] = meta_notnull.CHR.apply(process_chrom) #CHR column이 int, str 섞여있어서 정리. \n",
    "meta_notnull['MAPINFO'] = meta_notnull.MAPINFO.astype(int)\n",
    "\n",
    "meta_notnull.CHR.unique()\n",
    "\n",
    "meta_notnull = meta_notnull.rename({'IlmnID':'name', 'MAPINFO':'start', 'CHR':'chrom'}, axis = 1)\n",
    "meta_notnull['end'] = meta_notnull['start'] +2 -1 # since BED should be 0-based, subtract 1 from 1-based probe coordinates\n",
    "meta_notnull['start'] = meta_notnull['start'] -1 # since BEd should be 0-based, subtract 1 from 1-based probe coordinates\n",
    "\n",
    "meta_notnull[['chrom', 'start', 'end', 'name']] #원래 metadata가 깔끔하게 정리됨"
   ]
  },
  {
   "cell_type": "markdown",
   "metadata": {},
   "source": [
    "### (1-3) 결과파일을 저장하고자 하는 디렉토리 및 파일명 확인"
   ]
  },
  {
   "cell_type": "code",
   "execution_count": 39,
   "metadata": {},
   "outputs": [
    {
     "name": "stdout",
     "output_type": "stream",
     "text": [
      "/data/project/3dith/data/450k_metadata.island.bed\n"
     ]
    }
   ],
   "source": [
    "result_dir = '/data/project/3dith/data/'\n",
    "\n",
    "result_fname = os.path.join(result_dir, '450k_metadata.'+cpg_type.lower()+'.bed')\n",
    "print(result_fname)"
   ]
  },
  {
   "cell_type": "markdown",
   "metadata": {},
   "source": [
    "### (1-4) 결과파일 저장"
   ]
  },
  {
   "cell_type": "code",
   "execution_count": 40,
   "metadata": {},
   "outputs": [],
   "source": [
    "meta_notnull[['chrom', 'start', 'end', 'name']].to_csv(result_fname, sep = '\\t', index = False, header = False)"
   ]
  },
  {
   "cell_type": "markdown",
   "metadata": {},
   "source": [
    "### (1-5) 결과파일을 sorting한 후 어떤 파일명으로 저장할지 확인"
   ]
  },
  {
   "cell_type": "code",
   "execution_count": 40,
   "metadata": {},
   "outputs": [
    {
     "name": "stdout",
     "output_type": "stream",
     "text": [
      "/data/project/3dith/data/450k_metadata.island.sorted.bed\n"
     ]
    }
   ],
   "source": [
    "result_sorted_fname = os.path.join(result_dir, '450k_metadata.'+cpg_type.lower()+'.sorted.bed')\n",
    "print(result_sorted_fname)"
   ]
  },
  {
   "cell_type": "markdown",
   "metadata": {},
   "source": [
    "### (1-6) bedtools command 확인"
   ]
  },
  {
   "cell_type": "code",
   "execution_count": 42,
   "metadata": {},
   "outputs": [
    {
     "name": "stdout",
     "output_type": "stream",
     "text": [
      "bedtools sort -i /data/project/3dith/data/450k_metadata.island.bed > /data/project/3dith/data/450k_metadata.island.sorted.bed && rm /data/project/3dith/data/450k_metadata.island.bed\n"
     ]
    }
   ],
   "source": [
    "command_ = \"bedtools sort -i {} > {} && rm {}\".format(result_fname, result_sorted_fname, result_fname)\n",
    "print(command_)"
   ]
  },
  {
   "cell_type": "markdown",
   "metadata": {},
   "source": [
    "### (1-7) bedtools 돌려서 결과파일을 sorting한 bedfile 만들기"
   ]
  },
  {
   "cell_type": "code",
   "execution_count": 43,
   "metadata": {},
   "outputs": [
    {
     "data": {
      "text/plain": [
       "0"
      ]
     },
     "execution_count": 43,
     "metadata": {},
     "output_type": "execute_result"
    }
   ],
   "source": [
    "os.system(command_) #!bedtools sort -i '/data/project/jeewon/test_450k_resort.bed' > '/data/project/jeewon/test_450k_resort.sorted.bed' && rm '/data/project/jeewon/test_450k_resort.bed'"
   ]
  },
  {
   "cell_type": "markdown",
   "metadata": {},
   "source": [
    "### (1-8) sorting 완료된 bedfile 불러와서, cpg probe 개수 맞는지 확인"
   ]
  },
  {
   "cell_type": "code",
   "execution_count": 46,
   "metadata": {},
   "outputs": [],
   "source": [
    "assert pd.read_csv(result_sorted_fname, header = None, sep = '\\t').shape[0] == meta_notnull.shape[0]"
   ]
  },
  {
   "cell_type": "markdown",
   "metadata": {},
   "source": [
    "## (2) make shore CpG bedfile"
   ]
  },
  {
   "cell_type": "code",
   "execution_count": 151,
   "metadata": {},
   "outputs": [],
   "source": [
    "meta = raw_meta.copy()"
   ]
  },
  {
   "cell_type": "markdown",
   "metadata": {},
   "source": [
    "### (2-1) 먼저 각 cpg_type의 cpg probe 개수 확인"
   ]
  },
  {
   "cell_type": "code",
   "execution_count": 152,
   "metadata": {},
   "outputs": [
    {
     "name": "stdout",
     "output_type": "stream",
     "text": [
      "[nan 'N_Shore' 'S_Shelf' 'Island' 'S_Shore' 'N_Shelf']\n"
     ]
    }
   ],
   "source": [
    "print(meta.Relation_to_UCSC_CpG_Island.unique())"
   ]
  },
  {
   "cell_type": "code",
   "execution_count": 153,
   "metadata": {},
   "outputs": [
    {
     "name": "stdout",
     "output_type": "stream",
     "text": [
      "Island     150254\n",
      "N_Shore     62870\n",
      "S_Shore     49197\n",
      "N_Shelf     24844\n",
      "S_Shelf     22300\n",
      "Name: Relation_to_UCSC_CpG_Island, dtype: int64\n"
     ]
    }
   ],
   "source": [
    "print(meta.Relation_to_UCSC_CpG_Island.value_counts())"
   ]
  },
  {
   "cell_type": "markdown",
   "metadata": {},
   "source": [
    "### (2-2) shore의 라벨은 S_Shelf와 N_Shelf 두 개 존재하기 때문에, process_chrom 함수와 비슷한 process_cpg_type 함수를 만들어서 'Relation_to_UCSC_CpG_Island' column을 process하자"
   ]
  },
  {
   "cell_type": "code",
   "execution_count": 5,
   "metadata": {},
   "outputs": [],
   "source": [
    "def process_cpg_type(c):\n",
    "    if str(c) in ['N_Shore', 'S_Shore']:\n",
    "        return 'shore'\n",
    "    elif str(c) in ['N_Shelf', 'S_Shelf']:\n",
    "        return 'shelf'\n",
    "    else:\n",
    "        return c"
   ]
  },
  {
   "cell_type": "markdown",
   "metadata": {},
   "source": [
    "### (2-3) 원래 meta는 raw_meta에 저장해뒀기 때문에, meta를 그대로 변형해서 사용.\n",
    "- 대신, 다음에 shelf 시작하기 전에 raw_meta로 다시 meta를 다시 초기화"
   ]
  },
  {
   "cell_type": "code",
   "execution_count": 155,
   "metadata": {},
   "outputs": [],
   "source": [
    "meta['Relation_to_UCSC_CpG_Island'] = meta.Relation_to_UCSC_CpG_Island.apply(process_cpg_type)"
   ]
  },
  {
   "cell_type": "markdown",
   "metadata": {},
   "source": [
    "### (2-4) cpg_type이 제대로 바뀌었는지 확인"
   ]
  },
  {
   "cell_type": "code",
   "execution_count": 156,
   "metadata": {},
   "outputs": [
    {
     "name": "stdout",
     "output_type": "stream",
     "text": [
      "[nan 'shore' 'shelf' 'Island']\n"
     ]
    }
   ],
   "source": [
    "print(meta.Relation_to_UCSC_CpG_Island.unique())"
   ]
  },
  {
   "cell_type": "code",
   "execution_count": 157,
   "metadata": {},
   "outputs": [
    {
     "name": "stdout",
     "output_type": "stream",
     "text": [
      "Island    150254\n",
      "shore     112067\n",
      "shelf      47144\n",
      "Name: Relation_to_UCSC_CpG_Island, dtype: int64\n"
     ]
    }
   ],
   "source": [
    "print(meta.Relation_to_UCSC_CpG_Island.value_counts())"
   ]
  },
  {
   "cell_type": "markdown",
   "metadata": {},
   "source": [
    "- 제대로 바뀜!"
   ]
  },
  {
   "cell_type": "code",
   "execution_count": 159,
   "metadata": {},
   "outputs": [],
   "source": [
    "cpg_type = 'shore'\n",
    "globals()['meta_notnull_'+cpg_type] = meta[(meta.Genome_Build == 37.0) & meta.CHR.notnull() & meta.MAPINFO.notnull() & (meta.Relation_to_UCSC_CpG_Island==cpg_type)].copy() "
   ]
  },
  {
   "cell_type": "code",
   "execution_count": 160,
   "metadata": {},
   "outputs": [
    {
     "name": "stdout",
     "output_type": "stream",
     "text": [
      "meta_notnull_shore shape: (111989, 33): \n",
      "proportion of meta_notnull_shore in whole metadata: 0.2302272895474767\n"
     ]
    }
   ],
   "source": [
    "print(\"meta_notnull_{} shape: {}: \".format(cpg_type, globals()['meta_notnull_'+cpg_type].shape))\n",
    "print(\"proportion of meta_notnull_{} in whole metadata: \".format(cpg_type), end = '')\n",
    "print(len(globals()['meta_notnull_'+cpg_type])/len(meta))\n",
    "meta_notnull = globals()['meta_notnull_'+cpg_type].copy()"
   ]
  },
  {
   "cell_type": "code",
   "execution_count": 161,
   "metadata": {},
   "outputs": [],
   "source": [
    "meta_notnull['CHR'] = meta_notnull.CHR.apply(process_chrom) #CHR column이 int, str 섞여있어서 정리. \n",
    "meta_notnull['MAPINFO'] = meta_notnull.MAPINFO.astype(int)"
   ]
  },
  {
   "cell_type": "code",
   "execution_count": 162,
   "metadata": {},
   "outputs": [],
   "source": [
    "meta_notnull = meta_notnull.rename({'IlmnID':'name', 'MAPINFO':'start', 'CHR':'chrom'}, axis = 1)\n",
    "meta_notnull['end'] = meta_notnull['start'] +2 -1 # since BED should be 0-based, subtract 1 from 1-based probe coordinates\n",
    "meta_notnull['start'] = meta_notnull['start'] -1 # since BEd should be 0-based, subtract 1 from 1-based probe coordinates"
   ]
  },
  {
   "cell_type": "code",
   "execution_count": 163,
   "metadata": {},
   "outputs": [
    {
     "name": "stdout",
     "output_type": "stream",
     "text": [
      "/data/project/3dith/data/450k_metadata.shore.bed\n"
     ]
    }
   ],
   "source": [
    "result_dir = '/data/project/3dith/data/'\n",
    "\n",
    "result_fname = os.path.join(result_dir, '450k_metadata.'+cpg_type.lower()+'.bed')\n",
    "print(result_fname)"
   ]
  },
  {
   "cell_type": "code",
   "execution_count": 164,
   "metadata": {},
   "outputs": [],
   "source": [
    "meta_notnull[['chrom', 'start', 'end', 'name']].to_csv(result_fname, sep = '\\t', index = False, header = False)"
   ]
  },
  {
   "cell_type": "code",
   "execution_count": 165,
   "metadata": {},
   "outputs": [
    {
     "name": "stdout",
     "output_type": "stream",
     "text": [
      "/data/project/3dith/data/450k_metadata.shore.sorted.bed\n"
     ]
    }
   ],
   "source": [
    "result_sorted_fname = os.path.join(result_dir, '450k_metadata.'+cpg_type.lower()+'.sorted.bed')\n",
    "print(result_sorted_fname)"
   ]
  },
  {
   "cell_type": "code",
   "execution_count": 166,
   "metadata": {},
   "outputs": [
    {
     "name": "stdout",
     "output_type": "stream",
     "text": [
      "bedtools sort -i /data/project/3dith/data/450k_metadata.shore.bed > /data/project/3dith/data/450k_metadata.shore.sorted.bed && rm /data/project/3dith/data/450k_metadata.shore.bed\n"
     ]
    }
   ],
   "source": [
    "command_ = \"bedtools sort -i {} > {} && rm {}\".format(result_fname, result_sorted_fname, result_fname)\n",
    "print(command_)"
   ]
  },
  {
   "cell_type": "code",
   "execution_count": 167,
   "metadata": {},
   "outputs": [
    {
     "data": {
      "text/plain": [
       "0"
      ]
     },
     "execution_count": 167,
     "metadata": {},
     "output_type": "execute_result"
    }
   ],
   "source": [
    "os.system(command_) "
   ]
  },
  {
   "cell_type": "code",
   "execution_count": 168,
   "metadata": {},
   "outputs": [],
   "source": [
    "assert pd.read_csv(result_sorted_fname, header = None, sep = '\\t').shape[0] ==  meta_notnull.shape[0]"
   ]
  },
  {
   "cell_type": "markdown",
   "metadata": {},
   "source": [
    "## (3) make shelf CpG bedfile"
   ]
  },
  {
   "cell_type": "code",
   "execution_count": 6,
   "metadata": {},
   "outputs": [
    {
     "name": "stdout",
     "output_type": "stream",
     "text": [
      "[nan 'N_Shore' 'S_Shelf' 'Island' 'S_Shore' 'N_Shelf']\n",
      "Island     150254\n",
      "N_Shore     62870\n",
      "S_Shore     49197\n",
      "N_Shelf     24844\n",
      "S_Shelf     22300\n",
      "Name: Relation_to_UCSC_CpG_Island, dtype: int64\n"
     ]
    }
   ],
   "source": [
    "meta = raw_meta.copy()\n",
    "\n",
    "print(meta.Relation_to_UCSC_CpG_Island.unique())\n",
    "\n",
    "print(meta.Relation_to_UCSC_CpG_Island.value_counts())"
   ]
  },
  {
   "cell_type": "code",
   "execution_count": 7,
   "metadata": {},
   "outputs": [
    {
     "name": "stdout",
     "output_type": "stream",
     "text": [
      "[nan 'shore' 'shelf' 'Island']\n",
      "Island    150254\n",
      "shore     112067\n",
      "shelf      47144\n",
      "Name: Relation_to_UCSC_CpG_Island, dtype: int64\n"
     ]
    }
   ],
   "source": [
    "meta['Relation_to_UCSC_CpG_Island'] = meta.Relation_to_UCSC_CpG_Island.apply(process_cpg_type)\n",
    "\n",
    "print(meta.Relation_to_UCSC_CpG_Island.unique())\n",
    "\n",
    "print(meta.Relation_to_UCSC_CpG_Island.value_counts())"
   ]
  },
  {
   "cell_type": "code",
   "execution_count": 8,
   "metadata": {},
   "outputs": [
    {
     "name": "stdout",
     "output_type": "stream",
     "text": [
      "meta_notnull_shelf shape: (47062, 33): \n",
      "proportion of meta_notnull_shelf in whole metadata: 0.09675018707804649\n"
     ]
    }
   ],
   "source": [
    "cpg_type = 'shelf'\n",
    "globals()['meta_notnull_'+cpg_type] = meta[(meta.Genome_Build == 37.0) & meta.CHR.notnull() & meta.MAPINFO.notnull() & (meta.Relation_to_UCSC_CpG_Island==cpg_type)].copy() \n",
    "\n",
    "print(\"meta_notnull_{} shape: {}: \".format(cpg_type, globals()['meta_notnull_'+cpg_type].shape))\n",
    "print(\"proportion of meta_notnull_{} in whole metadata: \".format(cpg_type), end = '')\n",
    "print(len(globals()['meta_notnull_'+cpg_type])/len(meta))\n",
    "meta_notnull = globals()['meta_notnull_'+cpg_type].copy()"
   ]
  },
  {
   "cell_type": "code",
   "execution_count": 9,
   "metadata": {},
   "outputs": [],
   "source": [
    "meta_notnull['CHR'] = meta_notnull.CHR.apply(process_chrom) #CHR column이 int, str 섞여있어서 정리. \n",
    "meta_notnull['MAPINFO'] = meta_notnull.MAPINFO.astype(int)\n",
    "\n",
    "meta_notnull = meta_notnull.rename({'IlmnID':'name', 'MAPINFO':'start', 'CHR':'chrom'}, axis = 1)\n",
    "meta_notnull['end'] = meta_notnull['start'] +2 -1 # since BED should be 0-based, subtract 1 from 1-based probe coordinates\n",
    "meta_notnull['start'] = meta_notnull['start'] -1 # since BEd should be 0-based, subtract 1 from 1-based probe coordinates"
   ]
  },
  {
   "cell_type": "code",
   "execution_count": 10,
   "metadata": {},
   "outputs": [
    {
     "name": "stdout",
     "output_type": "stream",
     "text": [
      "/data/project/3dith/data/450k_metadata.shelf.bed\n"
     ]
    }
   ],
   "source": [
    "result_dir = '/data/project/3dith/data/'\n",
    "\n",
    "result_fname = os.path.join(result_dir, '450k_metadata.'+cpg_type.lower()+'.bed')\n",
    "print(result_fname)"
   ]
  },
  {
   "cell_type": "code",
   "execution_count": 11,
   "metadata": {},
   "outputs": [],
   "source": [
    "meta_notnull[['chrom', 'start', 'end', 'name']].to_csv(result_fname, sep = '\\t', index = False, header = False)"
   ]
  },
  {
   "cell_type": "code",
   "execution_count": 12,
   "metadata": {},
   "outputs": [
    {
     "name": "stdout",
     "output_type": "stream",
     "text": [
      "/data/project/3dith/data/450k_metadata.shelf.sorted.bed\n"
     ]
    }
   ],
   "source": [
    "result_sorted_fname = os.path.join(result_dir, '450k_metadata.'+cpg_type.lower()+'.sorted.bed')\n",
    "print(result_sorted_fname)"
   ]
  },
  {
   "cell_type": "code",
   "execution_count": 13,
   "metadata": {},
   "outputs": [
    {
     "name": "stdout",
     "output_type": "stream",
     "text": [
      "bedtools sort -i /data/project/3dith/data/450k_metadata.shelf.bed > /data/project/3dith/data/450k_metadata.shelf.sorted.bed && rm /data/project/3dith/data/450k_metadata.shelf.bed\n"
     ]
    }
   ],
   "source": [
    "command_ = \"bedtools sort -i {} > {} && rm {}\".format(result_fname, result_sorted_fname, result_fname)\n",
    "print(command_)"
   ]
  },
  {
   "cell_type": "code",
   "execution_count": 14,
   "metadata": {},
   "outputs": [
    {
     "data": {
      "text/plain": [
       "0"
      ]
     },
     "execution_count": 14,
     "metadata": {},
     "output_type": "execute_result"
    }
   ],
   "source": [
    "os.system(command_) "
   ]
  },
  {
   "cell_type": "code",
   "execution_count": 15,
   "metadata": {},
   "outputs": [],
   "source": [
    "assert pd.read_csv(result_sorted_fname, header = None, sep = '\\t').shape[0] ==  meta_notnull.shape[0]"
   ]
  },
  {
   "cell_type": "markdown",
   "metadata": {},
   "source": [
    "## (3) make shelf_shore CpG bedfile"
   ]
  },
  {
   "cell_type": "code",
   "execution_count": 16,
   "metadata": {},
   "outputs": [
    {
     "name": "stdout",
     "output_type": "stream",
     "text": [
      "[nan 'N_Shore' 'S_Shelf' 'Island' 'S_Shore' 'N_Shelf']\n",
      "Island     150254\n",
      "N_Shore     62870\n",
      "S_Shore     49197\n",
      "N_Shelf     24844\n",
      "S_Shelf     22300\n",
      "Name: Relation_to_UCSC_CpG_Island, dtype: int64\n"
     ]
    }
   ],
   "source": [
    "meta = raw_meta.copy()\n",
    "\n",
    "print(meta.Relation_to_UCSC_CpG_Island.unique())\n",
    "\n",
    "print(meta.Relation_to_UCSC_CpG_Island.value_counts())"
   ]
  },
  {
   "cell_type": "code",
   "execution_count": 17,
   "metadata": {},
   "outputs": [],
   "source": [
    "def process_cpg_type_shelf_shore(c):\n",
    "    if str(c) in ['N_Shore', 'S_Shore', 'N_Shelf', 'S_Shelf']:\n",
    "        return 'shelf_shore'\n",
    "    else:\n",
    "        return c"
   ]
  },
  {
   "cell_type": "code",
   "execution_count": 18,
   "metadata": {},
   "outputs": [
    {
     "name": "stdout",
     "output_type": "stream",
     "text": [
      "[nan 'shelf_shore' 'Island']\n",
      "shelf_shore    159211\n",
      "Island         150254\n",
      "Name: Relation_to_UCSC_CpG_Island, dtype: int64\n"
     ]
    }
   ],
   "source": [
    "meta['Relation_to_UCSC_CpG_Island'] = meta.Relation_to_UCSC_CpG_Island.apply(process_cpg_type_shelf_shore)\n",
    "\n",
    "print(meta.Relation_to_UCSC_CpG_Island.unique())\n",
    "\n",
    "print(meta.Relation_to_UCSC_CpG_Island.value_counts())"
   ]
  },
  {
   "cell_type": "code",
   "execution_count": 19,
   "metadata": {},
   "outputs": [
    {
     "name": "stdout",
     "output_type": "stream",
     "text": [
      "meta_notnull_shelf_shore shape: (159051, 33): \n",
      "proportion of meta_notnull_shelf_shore in whole metadata: 0.3269774766255232\n"
     ]
    }
   ],
   "source": [
    "cpg_type = 'shelf_shore'\n",
    "globals()['meta_notnull_'+cpg_type] = meta[(meta.Genome_Build == 37.0) & meta.CHR.notnull() & meta.MAPINFO.notnull() & (meta.Relation_to_UCSC_CpG_Island==cpg_type)].copy() \n",
    "\n",
    "print(\"meta_notnull_{} shape: {}: \".format(cpg_type, globals()['meta_notnull_'+cpg_type].shape))\n",
    "print(\"proportion of meta_notnull_{} in whole metadata: \".format(cpg_type), end = '')\n",
    "print(len(globals()['meta_notnull_'+cpg_type])/len(meta))\n",
    "meta_notnull = globals()['meta_notnull_'+cpg_type].copy()"
   ]
  },
  {
   "cell_type": "code",
   "execution_count": 20,
   "metadata": {},
   "outputs": [],
   "source": [
    "meta_notnull['CHR'] = meta_notnull.CHR.apply(process_chrom) #CHR column이 int, str 섞여있어서 정리. \n",
    "meta_notnull['MAPINFO'] = meta_notnull.MAPINFO.astype(int)\n",
    "\n",
    "meta_notnull = meta_notnull.rename({'IlmnID':'name', 'MAPINFO':'start', 'CHR':'chrom'}, axis = 1)\n",
    "meta_notnull['end'] = meta_notnull['start'] +2 -1 # since BED should be 0-based, subtract 1 from 1-based probe coordinates\n",
    "meta_notnull['start'] = meta_notnull['start'] -1 # since BEd should be 0-based, subtract 1 from 1-based probe coordinates"
   ]
  },
  {
   "cell_type": "code",
   "execution_count": 21,
   "metadata": {},
   "outputs": [
    {
     "name": "stdout",
     "output_type": "stream",
     "text": [
      "/data/project/3dith/data/450k_metadata.shelf_shore.bed\n"
     ]
    }
   ],
   "source": [
    "result_dir = '/data/project/3dith/data/'\n",
    "\n",
    "result_fname = os.path.join(result_dir, '450k_metadata.'+cpg_type.lower()+'.bed')\n",
    "print(result_fname)"
   ]
  },
  {
   "cell_type": "code",
   "execution_count": 22,
   "metadata": {},
   "outputs": [],
   "source": [
    "meta_notnull[['chrom', 'start', 'end', 'name']].to_csv(result_fname, sep = '\\t', index = False, header = False)"
   ]
  },
  {
   "cell_type": "code",
   "execution_count": 23,
   "metadata": {},
   "outputs": [
    {
     "name": "stdout",
     "output_type": "stream",
     "text": [
      "/data/project/3dith/data/450k_metadata.shelf_shore.sorted.bed\n"
     ]
    }
   ],
   "source": [
    "result_sorted_fname = os.path.join(result_dir, '450k_metadata.'+cpg_type.lower()+'.sorted.bed')\n",
    "print(result_sorted_fname)"
   ]
  },
  {
   "cell_type": "code",
   "execution_count": 24,
   "metadata": {},
   "outputs": [
    {
     "name": "stdout",
     "output_type": "stream",
     "text": [
      "bedtools sort -i /data/project/3dith/data/450k_metadata.shelf_shore.bed > /data/project/3dith/data/450k_metadata.shelf_shore.sorted.bed && rm /data/project/3dith/data/450k_metadata.shelf_shore.bed\n"
     ]
    }
   ],
   "source": [
    "command_ = \"bedtools sort -i {} > {} && rm {}\".format(result_fname, result_sorted_fname, result_fname)\n",
    "print(command_)"
   ]
  },
  {
   "cell_type": "code",
   "execution_count": 25,
   "metadata": {},
   "outputs": [
    {
     "data": {
      "text/plain": [
       "0"
      ]
     },
     "execution_count": 25,
     "metadata": {},
     "output_type": "execute_result"
    }
   ],
   "source": [
    "os.system(command_) "
   ]
  },
  {
   "cell_type": "code",
   "execution_count": 26,
   "metadata": {},
   "outputs": [],
   "source": [
    "assert pd.read_csv(result_sorted_fname, header = None, sep = '\\t').shape[0] ==  meta_notnull.shape[0]"
   ]
  },
  {
   "cell_type": "code",
   "execution_count": null,
   "metadata": {},
   "outputs": [],
   "source": []
  }
 ],
 "metadata": {
  "kernelspec": {
   "display_name": "3dith",
   "language": "python",
   "name": "3dith"
  },
  "language_info": {
   "codemirror_mode": {
    "name": "ipython",
    "version": 3
   },
   "file_extension": ".py",
   "mimetype": "text/x-python",
   "name": "python",
   "nbconvert_exporter": "python",
   "pygments_lexer": "ipython3",
   "version": "3.10.6"
  }
 },
 "nbformat": 4,
 "nbformat_minor": 2
}
